{
 "cells": [
  {
   "cell_type": "markdown",
   "id": "6e2dcb4e",
   "metadata": {},
   "source": [
    "This program uses SVC Classification algorithm to detect hand written 0-9 digit.\n",
    "Program needs single input digit with white background and digit in black color.\n",
    "\n",
    "Program compares two kernal linear and rbf. It uses GridSearchCV with KFold to identify tuned hyperparameter.\n",
    "\n",
    "Program detection becomes better after tuning Hyperparameter and RBF performs little better than linear kernal\n",
    "\n",
    "Program uses Open CV for image processing"
   ]
  },
  {
   "cell_type": "code",
   "execution_count": null,
   "id": "305fe410",
   "metadata": {},
   "outputs": [],
   "source": [
    "import numpy as np\n",
    "import pandas as pd\n",
    "from sklearn.model_selection import train_test_split\n",
    "from sklearn.svm import SVC\n",
    "from sklearn.metrics import confusion_matrix\n",
    "from sklearn.metrics import accuracy_score\n",
    "from sklearn.model_selection import validation_curve\n",
    "from sklearn.model_selection import KFold\n",
    "from sklearn.model_selection import cross_val_score\n",
    "from sklearn.model_selection import GridSearchCV\n",
    "import matplotlib.pyplot as plt\n",
    "import seaborn as sns\n",
    "import cv2"
   ]
  },
  {
   "cell_type": "code",
   "execution_count": null,
   "id": "7e830478",
   "metadata": {},
   "outputs": [],
   "source": [
    "# Loading training data\n",
    "train_data = pd.read_csv(\"train.csv\")"
   ]
  },
  {
   "cell_type": "code",
   "execution_count": null,
   "id": "e5ad388c",
   "metadata": {},
   "outputs": [],
   "source": [
    "print(\"Training data shape : \", train_data.shape)\n",
    "# Data is haivng 42K images and each image is having 785 features including one label\n",
    "# The image data is fatten from 28*28 image.\n",
    "# Image is grey scale. Because it doesn't have RGB that is why doesn't have third dimension"
   ]
  },
  {
   "cell_type": "code",
   "execution_count": null,
   "id": "3bdbe591",
   "metadata": {},
   "outputs": [],
   "source": [
    "print(\"----------------------Training data information--------------------- \\n\")\n",
    "print(train_data.info())\n",
    "print(\"--------------------------------------------------------------------- \\n\")"
   ]
  },
  {
   "cell_type": "code",
   "execution_count": null,
   "id": "f37d8135",
   "metadata": {},
   "outputs": [],
   "source": [
    "# Lets print how many unique label are there in Training data\n",
    "print(\"------------Unique Label-------------\")\n",
    "unique = list(np.sort(train_data.label.unique()))\n",
    "print(unique)\n",
    "print(\"-------------------------------------\")\n",
    "# Output shows 10 labels are there which represent 0-9 digits"
   ]
  },
  {
   "cell_type": "code",
   "execution_count": null,
   "id": "c9e83ec8",
   "metadata": {},
   "outputs": [],
   "source": [
    "# Lets see how many values are present for each unique label\n",
    "sns.countplot(x=train_data.label)\n",
    "# Data is equally distributed, hence it is good training data"
   ]
  },
  {
   "cell_type": "code",
   "execution_count": null,
   "id": "a9917bc8",
   "metadata": {},
   "outputs": [],
   "source": [
    "# The below logic show one of the image\n",
    "# Print 100th image, See we need to take parameters from 1 to end as 0th is label\n",
    "random_image = train_data.iloc[100, 1:]\n",
    "print(\"Shape of data: \", random_image.shape)\n",
    "#Reshape image so that it can be displayed correctly\n",
    "random_image = random_image.values.reshape(28,28)\n",
    "plt.imshow(random_image, cmap='gray')\n",
    "plt.title(train_data.label[100])"
   ]
  },
  {
   "cell_type": "code",
   "execution_count": null,
   "id": "0b5084c2",
   "metadata": {},
   "outputs": [],
   "source": [
    "# Prepare data for training\n",
    "# Drop label from feature parameter\n",
    "X = train_data.drop(columns=['label'], axis=1)\n",
    "y = train_data.label\n",
    "# Divide data in Train and Test\n",
    "X_train, X_test, y_train, y_test = train_test_split(X, y, test_size = 0.3, random_state = 10)\n",
    "# Set linear kernal\n",
    "model_linear = SVC(kernel='linear')\n",
    "model_linear.fit(X_train, y_train)\n",
    "# predict\n",
    "y_pred = model_linear.predict(X_test)\n",
    "\n",
    "# Print Accuracy\n",
    "print(\"accuracy:\", accuracy_score(y_true=y_test, y_pred=y_pred), \"\\n\")\n",
    "# Print Conusion Matrix\n",
    "print(confusion_matrix(y_true=y_test, y_pred=y_pred))"
   ]
  },
  {
   "cell_type": "code",
   "execution_count": null,
   "id": "e171125d",
   "metadata": {},
   "outputs": [],
   "source": [
    "# Create SVC with RBF Kernal\n",
    "non_linear_model = SVC(kernel='rbf')\n",
    "# fit\n",
    "non_linear_model.fit(X_train, y_train)\n",
    "# predict\n",
    "y_pred = non_linear_model.predict(X_test)\n",
    "\n",
    "# Print Accuracy\n",
    "print(\"accuracy:\", accuracy_score(y_true=y_test, y_pred=y_pred), \"\\n\")\n",
    "# Print Confusion Matrix\n",
    "print(confusion_matrix(y_true=y_test, y_pred=y_pred))"
   ]
  },
  {
   "cell_type": "code",
   "execution_count": null,
   "id": "f51a95d4",
   "metadata": {
    "scrolled": true
   },
   "outputs": [],
   "source": [
    "# Hyper Parameter Turning\n",
    "# creating a KFold object with 5 splits \n",
    "folds = KFold(n_splits = 5, shuffle = True, random_state = 10)\n",
    "\n",
    "# Specify range of hyperparameters\n",
    "# Set the parameters by cross-validation\n",
    "hyper_params = [ {'gamma': [1e-2, 1e-3, 1e-4],\n",
    "                     'C': [5,10]}]\n",
    "\n",
    "\n",
    "# specify model\n",
    "model = SVC(kernel=\"rbf\")\n",
    "\n",
    "# set up GridSearchCV()\n",
    "model_cv = GridSearchCV(estimator = model, \n",
    "                        param_grid = hyper_params, \n",
    "                        scoring= 'accuracy', \n",
    "                        cv = folds, \n",
    "                        verbose = 1,\n",
    "                        return_train_score=True)      \n",
    "\n",
    "# fit the model\n",
    "model_cv.fit(X_train, y_train)\n",
    "\n",
    "# printing the optimal accuracy score and hyperparameters\n",
    "best_score = model_cv.best_score_\n",
    "best_hyperparams = model_cv.best_params_\n",
    "\n",
    "print(\"The best test score is {0} corresponding to hyperparameters {1}\".format(best_score, best_hyperparams))"
   ]
  },
  {
   "cell_type": "code",
   "execution_count": null,
   "id": "e9230514",
   "metadata": {},
   "outputs": [],
   "source": [
    "# Tune model with identified hyperparameters for RBF kernal\n",
    "model = SVC(C=10, gamma=0.01, kernel=\"rbf\")\n",
    "\n",
    "model.fit(X_train, y_train)\n",
    "y_pred = model.predict(X_test)\n",
    "# metrics\n",
    "print(\"accuracy\", accuracy_score(y_test, y_pred), \"\\n\")\n",
    "print(confusion_matrix(y_test, y_pred), \"\\n\")"
   ]
  },
  {
   "cell_type": "code",
   "execution_count": null,
   "id": "61106283",
   "metadata": {},
   "outputs": [],
   "source": [
    "# Lets test how tuned model work on created images\n",
    "image = cv2.imread(\"Three.png\")\n",
    "print(\"Shape of image \", image.shape)\n",
    "# Convert the image to gray scale as training data is in Gray Scale\n",
    "image=cv2.cvtColor(image,cv2.COLOR_BGR2GRAY)\n",
    "print(\"Shape of Grey Image \", image.shape)\n",
    "\n",
    "########## Uncomment the below code only when you have white background and black digit\n",
    "ret, image = cv2.threshold(image, 120, 255, cv2.THRESH_BINARY_INV)\n",
    "# Normalize the image\n",
    "image = image/255\n",
    "\n",
    "# Need to resize image so that it can match the training image size\n",
    "image = cv2.resize(image, (28,28))\n",
    "\n",
    "# Lets see how image looks\n",
    "cv2.imshow(\"frame\",image)\n",
    "cv2.waitKey(0)\n",
    "cv2.destroyAllWindows()\n",
    "\n",
    "# Now reshape it to what training data looks\n",
    "image = np.reshape(image, (-1,784))\n",
    "print(\"Shape of new image \", image.shape)\n"
   ]
  },
  {
   "cell_type": "code",
   "execution_count": null,
   "id": "6589156a",
   "metadata": {},
   "outputs": [],
   "source": [
    "print(\"Result of Prediction \", model.predict(image))"
   ]
  }
 ],
 "metadata": {
  "kernelspec": {
   "display_name": "Python 3 (ipykernel)",
   "language": "python",
   "name": "python3"
  },
  "language_info": {
   "codemirror_mode": {
    "name": "ipython",
    "version": 3
   },
   "file_extension": ".py",
   "mimetype": "text/x-python",
   "name": "python",
   "nbconvert_exporter": "python",
   "pygments_lexer": "ipython3",
   "version": "3.9.12"
  }
 },
 "nbformat": 4,
 "nbformat_minor": 5
}
