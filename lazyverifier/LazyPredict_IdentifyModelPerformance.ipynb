{
 "cells": [
  {
   "cell_type": "code",
   "execution_count": 1,
   "id": "2ed430aa",
   "metadata": {},
   "outputs": [
    {
     "name": "stdout",
     "output_type": "stream",
     "text": [
      "Collecting lazypredict"
     ]
    },
    {
     "name": "stderr",
     "output_type": "stream",
     "text": [
      "\n",
      "[notice] A new release of pip is available: 23.0.1 -> 23.1.2\n",
      "[notice] To update, run: python.exe -m pip install --upgrade pip\n"
     ]
    },
    {
     "name": "stdout",
     "output_type": "stream",
     "text": [
      "\n",
      "  Downloading lazypredict-0.2.12-py2.py3-none-any.whl (12 kB)\n",
      "Collecting xgboost\n",
      "  Downloading xgboost-1.7.6-py3-none-win_amd64.whl (70.9 MB)\n",
      "     ---------------------------------------- 70.9/70.9 MB 1.5 MB/s eta 0:00:00\n",
      "Requirement already satisfied: pandas in c:\\users\\samehrot\\anaconda3\\lib\\site-packages (from lazypredict) (1.4.2)\n",
      "Requirement already satisfied: joblib in c:\\users\\samehrot\\anaconda3\\lib\\site-packages (from lazypredict) (1.1.0)\n",
      "Requirement already satisfied: tqdm in c:\\users\\samehrot\\anaconda3\\lib\\site-packages (from lazypredict) (4.64.0)\n",
      "Collecting lightgbm\n",
      "  Downloading lightgbm-3.3.5-py3-none-win_amd64.whl (1.0 MB)\n",
      "     ---------------------------------------- 1.0/1.0 MB 2.5 MB/s eta 0:00:00\n",
      "Requirement already satisfied: click in c:\\users\\samehrot\\anaconda3\\lib\\site-packages (from lazypredict) (8.0.4)\n",
      "Requirement already satisfied: scikit-learn in c:\\users\\samehrot\\anaconda3\\lib\\site-packages (from lazypredict) (1.0.2)\n",
      "Requirement already satisfied: colorama in c:\\users\\samehrot\\anaconda3\\lib\\site-packages (from click->lazypredict) (0.4.4)\n",
      "Requirement already satisfied: scipy in c:\\users\\samehrot\\anaconda3\\lib\\site-packages (from lightgbm->lazypredict) (1.7.3)\n",
      "Requirement already satisfied: numpy in c:\\users\\samehrot\\anaconda3\\lib\\site-packages (from lightgbm->lazypredict) (1.21.5)\n",
      "Requirement already satisfied: wheel in c:\\users\\samehrot\\anaconda3\\lib\\site-packages (from lightgbm->lazypredict) (0.37.1)\n",
      "Requirement already satisfied: threadpoolctl>=2.0.0 in c:\\users\\samehrot\\anaconda3\\lib\\site-packages (from scikit-learn->lazypredict) (2.2.0)\n",
      "Requirement already satisfied: python-dateutil>=2.8.1 in c:\\users\\samehrot\\anaconda3\\lib\\site-packages (from pandas->lazypredict) (2.8.2)\n",
      "Requirement already satisfied: pytz>=2020.1 in c:\\users\\samehrot\\anaconda3\\lib\\site-packages (from pandas->lazypredict) (2021.3)\n",
      "Requirement already satisfied: six>=1.5 in c:\\users\\samehrot\\anaconda3\\lib\\site-packages (from python-dateutil>=2.8.1->pandas->lazypredict) (1.16.0)\n",
      "Installing collected packages: xgboost, lightgbm, lazypredict\n",
      "Successfully installed lazypredict-0.2.12 lightgbm-3.3.5 xgboost-1.7.6\n"
     ]
    }
   ],
   "source": [
    "!pip install lazypredict"
   ]
  },
  {
   "cell_type": "code",
   "execution_count": 33,
   "id": "02b14a97",
   "metadata": {},
   "outputs": [],
   "source": [
    "from lazypredict.Supervised import LazyClassifier\n",
    "from lazypredict.Supervised import LazyRegressor\n",
    "from sklearn.model_selection import train_test_split\n",
    "import pandas as pd"
   ]
  },
  {
   "cell_type": "code",
   "execution_count": 47,
   "id": "0a107a7b",
   "metadata": {},
   "outputs": [
    {
     "name": "stdout",
     "output_type": "stream",
     "text": [
      "--------------- Insurance data top 5 rows and last 5 rows --------------------\n",
      " <bound method NDFrame.head of       age     sex   bmi  children smoker     region  charges\n",
      "0      19  female 27.90         0    yes  southwest 16884.92\n",
      "1      18    male 33.77         1     no  southeast  1725.55\n",
      "2      28    male 33.00         3     no  southeast  4449.46\n",
      "3      33    male 22.70         0     no  northwest 21984.47\n",
      "4      32    male 28.88         0     no  northwest  3866.86\n",
      "...   ...     ...   ...       ...    ...        ...      ...\n",
      "1333   50    male 30.97         3     no  northwest 10600.55\n",
      "1334   18  female 31.92         0     no  northeast  2205.98\n",
      "1335   18  female 36.85         0     no  southeast  1629.83\n",
      "1336   21  female 25.80         0     no  southwest  2007.94\n",
      "1337   61  female 29.07         0    yes  northwest 29141.36\n",
      "\n",
      "[1338 rows x 7 columns]>\n",
      "---------------------------------------------------------------------\n",
      "-------------------Preparing data for training and testing--------------------\n",
      "Input data columns are \n",
      " Index(['age', 'sex', 'bmi', 'children', 'smoker', 'region'], dtype='object')\n"
     ]
    }
   ],
   "source": [
    "from sklearn.preprocessing import normalize\n",
    "import numpy as np\n",
    "# Lets test LazyRegression on Regression Data Example. Having Insurance data to create a model to predict \n",
    "# Insurance cost basd on certain input parameters.\n",
    "data = pd.read_csv(\"insurance.csv\")\n",
    "print(f\"--------------- Insurance data top 5 rows and last 5 rows --------------------\\n {data.head}\")\n",
    "print(\"---------------------------------------------------------------------\")\n",
    "\n",
    "print(f\"-------------------Preparing data for training and testing--------------------\")\n",
    "X = data.drop(labels=['charges'], axis=1)\n",
    "print(f\"Input data columns are \\n {X.columns}\")\n",
    "y = data.charges"
   ]
  },
  {
   "cell_type": "code",
   "execution_count": 35,
   "id": "b17f6101",
   "metadata": {},
   "outputs": [],
   "source": [
    "X_train, X_test, y_train, y_test = train_test_split(X, y,test_size=.2,random_state =123)"
   ]
  },
  {
   "cell_type": "code",
   "execution_count": 36,
   "id": "1e973cd8",
   "metadata": {},
   "outputs": [
    {
     "name": "stdout",
     "output_type": "stream",
     "text": [
      "Initializing Lazy Regressor..........\n",
      "Fitting data in Lazy Regressor..........\n"
     ]
    },
    {
     "name": "stderr",
     "output_type": "stream",
     "text": [
      "100%|██████████| 42/42 [01:02<00:00,  1.48s/it]"
     ]
    },
    {
     "name": "stdout",
     "output_type": "stream",
     "text": [
      "--------------------Out put of fitting data in Lazy Regressor -----------------------\n",
      "                                Adjusted R-Squared  R-Squared      RMSE  \\\n",
      "Model                                                                    \n",
      "GradientBoostingRegressor                    0.90       0.91   3807.96   \n",
      "RandomForestRegressor                        0.89       0.89   4138.61   \n",
      "LGBMRegressor                                0.89       0.89   4144.92   \n",
      "HistGradientBoostingRegressor                0.88       0.89   4181.91   \n",
      "BaggingRegressor                             0.87       0.87   4401.93   \n",
      "AdaBoostRegressor                            0.87       0.87   4431.03   \n",
      "ExtraTreesRegressor                          0.86       0.86   4614.70   \n",
      "XGBRegressor                                 0.85       0.86   4661.58   \n",
      "PoissonRegressor                             0.82       0.82   5211.05   \n",
      "LassoLarsCV                                  0.80       0.80   5527.43   \n",
      "TransformedTargetRegressor                   0.80       0.80   5527.43   \n",
      "LinearRegression                             0.80       0.80   5527.43   \n",
      "Lars                                         0.80       0.80   5527.43   \n",
      "LarsCV                                       0.80       0.80   5527.43   \n",
      "Lasso                                        0.80       0.80   5527.82   \n",
      "LassoLarsIC                                  0.80       0.80   5529.23   \n",
      "RidgeCV                                      0.80       0.80   5530.99   \n",
      "Ridge                                        0.80       0.80   5530.99   \n",
      "BayesianRidge                                0.80       0.80   5531.15   \n",
      "KernelRidge                                  0.80       0.80   5531.70   \n",
      "SGDRegressor                                 0.80       0.80   5533.58   \n",
      "LassoLars                                    0.80       0.80   5534.02   \n",
      "LassoCV                                      0.79       0.80   5537.13   \n",
      "OrthogonalMatchingPursuitCV                  0.79       0.80   5543.14   \n",
      "KNeighborsRegressor                          0.78       0.78   5772.86   \n",
      "PassiveAggressiveRegressor                   0.78       0.78   5787.01   \n",
      "HuberRegressor                               0.74       0.75   6188.02   \n",
      "ExtraTreeRegressor                           0.73       0.74   6347.65   \n",
      "DecisionTreeRegressor                        0.71       0.72   6577.27   \n",
      "RANSACRegressor                              0.69       0.69   6858.77   \n",
      "OrthogonalMatchingPursuit                    0.67       0.67   7070.34   \n",
      "ElasticNet                                   0.50       0.51   8673.30   \n",
      "TweedieRegressor                             0.34       0.36   9895.83   \n",
      "GammaRegressor                               0.32       0.33  10114.96   \n",
      "ElasticNetCV                                 0.12       0.14  11475.75   \n",
      "DummyRegressor                              -0.02      -0.00  12371.73   \n",
      "NuSVR                                       -0.08      -0.05  12676.96   \n",
      "SVR                                         -0.14      -0.12  13071.36   \n",
      "QuantileRegressor                           -0.15      -0.12  13088.47   \n",
      "LinearSVR                                   -0.91      -0.86  16879.20   \n",
      "MLPRegressor                                -1.08      -1.04  17639.91   \n",
      "GaussianProcessRegressor                 -1674.09   -1636.44 500357.58   \n",
      "\n",
      "                               Time Taken  mean_squared_error  \n",
      "Model                                                          \n",
      "GradientBoostingRegressor            0.26         14500539.29  \n",
      "RandomForestRegressor                0.99         17128076.27  \n",
      "LGBMRegressor                        0.72         17180320.77  \n",
      "HistGradientBoostingRegressor        2.31         17488344.94  \n",
      "BaggingRegressor                     0.10         19377002.65  \n",
      "AdaBoostRegressor                    0.06         19633992.75  \n",
      "ExtraTreesRegressor                  0.97         21295438.58  \n",
      "XGBRegressor                         0.51         21730331.41  \n",
      "PoissonRegressor                     0.06         27155054.75  \n",
      "LassoLarsCV                          0.10         30552437.42  \n",
      "TransformedTargetRegressor           0.04         30552437.42  \n",
      "LinearRegression                     0.04         30552437.42  \n",
      "Lars                                 0.05         30552437.42  \n",
      "LarsCV                               0.07         30552437.42  \n",
      "Lasso                                0.08         30556774.07  \n",
      "LassoLarsIC                          0.05         30572413.93  \n",
      "RidgeCV                              0.05         30591866.49  \n",
      "Ridge                                0.04         30591866.49  \n",
      "BayesianRidge                        0.04         30593649.86  \n",
      "KernelRidge                          0.12         30599660.07  \n",
      "SGDRegressor                         0.05         30620538.48  \n",
      "LassoLars                            0.05         30625388.66  \n",
      "LassoCV                              0.37         30659836.64  \n",
      "OrthogonalMatchingPursuitCV          0.05         30726420.93  \n",
      "KNeighborsRegressor                  0.05         33325860.16  \n",
      "PassiveAggressiveRegressor           0.13         33489537.18  \n",
      "HuberRegressor                       0.12         38291611.65  \n",
      "ExtraTreeRegressor                   0.04         40292601.20  \n",
      "DecisionTreeRegressor                0.04         43260507.79  \n",
      "RANSACRegressor                      0.15         47042790.40  \n",
      "OrthogonalMatchingPursuit            0.04         49989773.64  \n",
      "ElasticNet                           0.04         75226145.41  \n",
      "TweedieRegressor                     0.05         97927363.19  \n",
      "GammaRegressor                       0.83        102312429.63  \n",
      "ElasticNetCV                         0.15        131692773.67  \n",
      "DummyRegressor                       0.03        153059750.32  \n",
      "NuSVR                                0.24        160705428.73  \n",
      "SVR                                  0.37        170860340.50  \n",
      "QuantileRegressor                   49.65        171307921.13  \n",
      "LinearSVR                            0.04        284907371.97  \n",
      "MLPRegressor                         2.67        311166353.08  \n",
      "GaussianProcessRegressor             0.23     250357711953.15  \n"
     ]
    },
    {
     "name": "stderr",
     "output_type": "stream",
     "text": [
      "\n"
     ]
    }
   ],
   "source": [
    "from sklearn.metrics import mean_squared_error\n",
    "print(f\"Initializing Lazy Regressor..........\")\n",
    "reg = LazyRegressor(verbose=0,ignore_warnings=False, custom_metric=mean_squared_error )\n",
    "print(f\"Fitting data in Lazy Regressor..........\")\n",
    "models,predictions = reg.fit(X_train, X_test, y_train, y_test)\n",
    "\n",
    "print(f\"--------------------Out put of fitting data in Lazy Regressor -----------------------\\n {models}\")"
   ]
  },
  {
   "cell_type": "code",
   "execution_count": 51,
   "id": "66e5f44c",
   "metadata": {},
   "outputs": [
    {
     "name": "stderr",
     "output_type": "stream",
     "text": [
      "  7%|▋         | 2/29 [00:00<00:05,  5.13it/s]"
     ]
    },
    {
     "name": "stdout",
     "output_type": "stream",
     "text": [
      "{'Model': 'AdaBoostClassifier', 'Accuracy': 0.9614035087719298, 'Balanced Accuracy': 0.9592446388562894, 'ROC AUC': 0.9592446388562894, 'F1 Score': 0.9614435738005532, 'confusion_matrix': array([[ 98,   5],\n",
      "       [  6, 176]], dtype=int64), 'Time taken': 0.30754709243774414}\n",
      "{'Model': 'BaggingClassifier', 'Accuracy': 0.9719298245614035, 'Balanced Accuracy': 0.9738077456524059, 'ROC AUC': 0.9738077456524059, 'F1 Score': 0.9720412141464773, 'confusion_matrix': array([[101,   2],\n",
      "       [  6, 176]], dtype=int64), 'Time taken': 0.11025261878967285}\n",
      "{'Model': 'BernoulliNB', 'Accuracy': 0.9508771929824561, 'Balanced Accuracy': 0.9510028806145311, 'ROC AUC': 0.9510028806145312, 'F1 Score': 0.9510721247563353, 'confusion_matrix': array([[ 98,   5],\n",
      "       [  9, 173]], dtype=int64), 'Time taken': 0.029572248458862305}\n"
     ]
    },
    {
     "name": "stderr",
     "output_type": "stream",
     "text": [
      " 28%|██▊       | 8/29 [00:00<00:01, 17.93it/s]"
     ]
    },
    {
     "name": "stdout",
     "output_type": "stream",
     "text": [
      "{'Model': 'CalibratedClassifierCV', 'Accuracy': 0.9789473684210527, 'Balanced Accuracy': 0.970873786407767, 'ROC AUC': 0.970873786407767, 'F1 Score': 0.9788022759601707, 'confusion_matrix': array([[ 97,   6],\n",
      "       [  0, 182]], dtype=int64), 'Time taken': 0.08376073837280273}\n",
      "CategoricalNB model failed to execute\n",
      "Negative values in data passed to CategoricalNB (input X)\n",
      "{'Model': 'DecisionTreeClassifier', 'Accuracy': 0.9298245614035088, 'Balanced Accuracy': 0.9281980155766564, 'ROC AUC': 0.9281980155766565, 'F1 Score': 0.9301030353661932, 'confusion_matrix': array([[ 95,   8],\n",
      "       [ 12, 170]], dtype=int64), 'Time taken': 0.03492331504821777}\n",
      "{'Model': 'DummyClassifier', 'Accuracy': 0.6385964912280702, 'Balanced Accuracy': 0.5, 'ROC AUC': 0.5, 'F1 Score': 0.4977497276381532, 'confusion_matrix': array([[  0, 103],\n",
      "       [  0, 182]], dtype=int64), 'Time taken': 0.025418996810913086}\n",
      "{'Model': 'ExtraTreeClassifier', 'Accuracy': 0.9438596491228071, 'Balanced Accuracy': 0.9349727941960952, 'ROC AUC': 0.9349727941960952, 'F1 Score': 0.9436089146672104, 'confusion_matrix': array([[ 93,  10],\n",
      "       [  6, 176]], dtype=int64), 'Time taken': 0.02653217315673828}\n"
     ]
    },
    {
     "name": "stderr",
     "output_type": "stream",
     "text": [
      " 45%|████▍     | 13/29 [00:01<00:01, 12.37it/s]"
     ]
    },
    {
     "name": "stdout",
     "output_type": "stream",
     "text": [
      "{'Model': 'ExtraTreesClassifier', 'Accuracy': 0.968421052631579, 'Balanced Accuracy': 0.9647391443507949, 'ROC AUC': 0.9647391443507949, 'F1 Score': 0.9683872896407407, 'confusion_matrix': array([[ 98,   5],\n",
      "       [  4, 178]], dtype=int64), 'Time taken': 0.3372936248779297}\n",
      "{'Model': 'GaussianNB', 'Accuracy': 0.9543859649122807, 'Balanced Accuracy': 0.9495359009922117, 'ROC AUC': 0.9495359009922117, 'F1 Score': 0.9543371961477365, 'confusion_matrix': array([[ 96,   7],\n",
      "       [  6, 176]], dtype=int64), 'Time taken': 0.027238130569458008}\n",
      "{'Model': 'KNeighborsClassifier', 'Accuracy': 0.9614035087719298, 'Balanced Accuracy': 0.9550304064867172, 'ROC AUC': 0.9550304064867172, 'F1 Score': 0.9612760643504843, 'confusion_matrix': array([[ 96,   7],\n",
      "       [  4, 178]], dtype=int64), 'Time taken': 0.05765891075134277}\n",
      "{'Model': 'LabelPropagation', 'Accuracy': 0.9754385964912281, 'Balanced Accuracy': 0.9744478822148726, 'ROC AUC': 0.9744478822148726, 'F1 Score': 0.9754640924185338, 'confusion_matrix': array([[100,   3],\n",
      "       [  4, 178]], dtype=int64), 'Time taken': 0.05722498893737793}\n",
      "{'Model': 'LabelSpreading', 'Accuracy': 0.9754385964912281, 'Balanced Accuracy': 0.9744478822148726, 'ROC AUC': 0.9744478822148726, 'F1 Score': 0.9754640924185338, 'confusion_matrix': array([[100,   3],\n",
      "       [  4, 178]], dtype=int64), 'Time taken': 0.0496060848236084}\n"
     ]
    },
    {
     "name": "stderr",
     "output_type": "stream",
     "text": [
      "\r",
      " 52%|█████▏    | 15/29 [00:01<00:01, 13.68it/s]"
     ]
    },
    {
     "name": "stdout",
     "output_type": "stream",
     "text": [
      "{'Model': 'LinearDiscriminantAnalysis', 'Accuracy': 0.9614035087719298, 'Balanced Accuracy': 0.950816174117145, 'ROC AUC': 0.9508161741171451, 'F1 Score': 0.9610887938534114, 'confusion_matrix': array([[ 94,   9],\n",
      "       [  2, 180]], dtype=int64), 'Time taken': 0.042459964752197266}\n",
      "{'Model': 'LinearSVC', 'Accuracy': 0.9894736842105263, 'Balanced Accuracy': 0.9875440093886696, 'ROC AUC': 0.9875440093886696, 'F1 Score': 0.9894624298802469, 'confusion_matrix': array([[101,   2],\n",
      "       [  1, 181]], dtype=int64), 'Time taken': 0.06323122978210449}\n"
     ]
    },
    {
     "name": "stderr",
     "output_type": "stream",
     "text": [
      " 66%|██████▌   | 19/29 [00:03<00:02,  4.08it/s]"
     ]
    },
    {
     "name": "stdout",
     "output_type": "stream",
     "text": [
      "{'Model': 'LogisticRegression', 'Accuracy': 0.9859649122807017, 'Balanced Accuracy': 0.9826896404566308, 'ROC AUC': 0.9826896404566308, 'F1 Score': 0.985934460065303, 'confusion_matrix': array([[100,   3],\n",
      "       [  1, 181]], dtype=int64), 'Time taken': 1.8091938495635986}\n",
      "{'Model': 'NearestCentroid', 'Accuracy': 0.9473684210526315, 'Balanced Accuracy': 0.9335058145737758, 'ROC AUC': 0.9335058145737758, 'F1 Score': 0.9468011422931384, 'confusion_matrix': array([[ 91,  12],\n",
      "       [  3, 179]], dtype=int64), 'Time taken': 0.031067371368408203}\n",
      "{'Model': 'NuSVC', 'Accuracy': 0.9543859649122807, 'Balanced Accuracy': 0.9432145524378535, 'ROC AUC': 0.9432145524378535, 'F1 Score': 0.9540140290994862, 'confusion_matrix': array([[ 93,  10],\n",
      "       [  3, 179]], dtype=int64), 'Time taken': 0.09283900260925293}\n",
      "{'Model': 'PassiveAggressiveClassifier', 'Accuracy': 0.9789473684210527, 'Balanced Accuracy': 0.9729809025925531, 'ROC AUC': 0.9729809025925531, 'F1 Score': 0.978853343000204, 'confusion_matrix': array([[ 98,   5],\n",
      "       [  1, 181]], dtype=int64), 'Time taken': 0.03780770301818848}\n",
      "{'Model': 'Perceptron', 'Accuracy': 0.9859649122807017, 'Balanced Accuracy': 0.9847967566414169, 'ROC AUC': 0.9847967566414169, 'F1 Score': 0.9859649122807017, 'confusion_matrix': array([[101,   2],\n",
      "       [  2, 180]], dtype=int64), 'Time taken': 0.03775310516357422}\n"
     ]
    },
    {
     "name": "stderr",
     "output_type": "stream",
     "text": [
      "\r",
      " 72%|███████▏  | 21/29 [00:03<00:01,  5.13it/s]"
     ]
    },
    {
     "name": "stdout",
     "output_type": "stream",
     "text": [
      "{'Model': 'QuadraticDiscriminantAnalysis', 'Accuracy': 0.9649122807017544, 'Balanced Accuracy': 0.9662061239731143, 'ROC AUC': 0.9662061239731143, 'F1 Score': 0.9650515176830966, 'confusion_matrix': array([[100,   3],\n",
      "       [  7, 175]], dtype=int64), 'Time taken': 0.10605144500732422}\n"
     ]
    },
    {
     "name": "stderr",
     "output_type": "stream",
     "text": [
      " 86%|████████▌ | 25/29 [00:04<00:00,  5.44it/s]"
     ]
    },
    {
     "name": "stdout",
     "output_type": "stream",
     "text": [
      "{'Model': 'RandomForestClassifier', 'Accuracy': 0.9719298245614035, 'Balanced Accuracy': 0.9717006294676198, 'ROC AUC': 0.9717006294676198, 'F1 Score': 0.9719872354068341, 'confusion_matrix': array([[100,   3],\n",
      "       [  5, 177]], dtype=int64), 'Time taken': 0.6497397422790527}\n",
      "{'Model': 'RidgeClassifier', 'Accuracy': 0.968421052631579, 'Balanced Accuracy': 0.9605249119812227, 'ROC AUC': 0.9605249119812227, 'F1 Score': 0.9682422291622761, 'confusion_matrix': array([[ 96,   7],\n",
      "       [  2, 180]], dtype=int64), 'Time taken': 0.044359445571899414}\n",
      "{'Model': 'RidgeClassifierCV', 'Accuracy': 0.9719298245614035, 'Balanced Accuracy': 0.9632721647284754, 'ROC AUC': 0.9632721647284754, 'F1 Score': 0.9717363679468941, 'confusion_matrix': array([[ 96,   7],\n",
      "       [  1, 181]], dtype=int64), 'Time taken': 0.05365276336669922}\n",
      "{'Model': 'SGDClassifier', 'Accuracy': 0.9754385964912281, 'Balanced Accuracy': 0.9723407660300865, 'ROC AUC': 0.9723407660300865, 'F1 Score': 0.9754123363872427, 'confusion_matrix': array([[ 99,   4],\n",
      "       [  3, 179]], dtype=int64), 'Time taken': 0.043901920318603516}\n",
      "{'Model': 'SVC', 'Accuracy': 0.9824561403508771, 'Balanced Accuracy': 0.979942387709378, 'ROC AUC': 0.9799423877093781, 'F1 Score': 0.9824373831337447, 'confusion_matrix': array([[100,   3],\n",
      "       [  2, 180]], dtype=int64), 'Time taken': 0.06233668327331543}\n",
      "StackingClassifier model failed to execute\n",
      "__init__() missing 1 required positional argument: 'estimators'\n"
     ]
    },
    {
     "name": "stderr",
     "output_type": "stream",
     "text": [
      "\r",
      " 97%|█████████▋| 28/29 [00:05<00:00,  4.61it/s]"
     ]
    },
    {
     "name": "stdout",
     "output_type": "stream",
     "text": [
      "{'Model': 'XGBClassifier', 'Accuracy': 0.9789473684210527, 'Balanced Accuracy': 0.9793022511469114, 'ROC AUC': 0.9793022511469114, 'F1 Score': 0.9789904265551256, 'confusion_matrix': array([[101,   2],\n",
      "       [  4, 178]], dtype=int64), 'Time taken': 0.7405030727386475}\n"
     ]
    },
    {
     "name": "stderr",
     "output_type": "stream",
     "text": [
      "\r",
      "100%|██████████| 29/29 [00:06<00:00,  4.78it/s]"
     ]
    },
    {
     "name": "stdout",
     "output_type": "stream",
     "text": [
      "{'Model': 'LGBMClassifier', 'Accuracy': 0.968421052631579, 'Balanced Accuracy': 0.966846260535581, 'ROC AUC': 0.966846260535581, 'F1 Score': 0.9684538331095434, 'confusion_matrix': array([[ 99,   4],\n",
      "       [  5, 177]], dtype=int64), 'Time taken': 1.0456993579864502}\n",
      "--------------------Out put of fitting data in Lazy Classifier -----------------------\n",
      "                                Accuracy  Balanced Accuracy  ROC AUC  F1 Score  \\\n",
      "Model                                                                           \n",
      "LinearSVC                          0.99               0.99     0.99      0.99   \n",
      "Perceptron                         0.99               0.98     0.98      0.99   \n",
      "LogisticRegression                 0.99               0.98     0.98      0.99   \n",
      "SVC                                0.98               0.98     0.98      0.98   \n",
      "XGBClassifier                      0.98               0.98     0.98      0.98   \n",
      "LabelPropagation                   0.98               0.97     0.97      0.98   \n",
      "LabelSpreading                     0.98               0.97     0.97      0.98   \n",
      "BaggingClassifier                  0.97               0.97     0.97      0.97   \n",
      "PassiveAggressiveClassifier        0.98               0.97     0.97      0.98   \n",
      "SGDClassifier                      0.98               0.97     0.97      0.98   \n",
      "RandomForestClassifier             0.97               0.97     0.97      0.97   \n",
      "CalibratedClassifierCV             0.98               0.97     0.97      0.98   \n",
      "LGBMClassifier                     0.97               0.97     0.97      0.97   \n",
      "QuadraticDiscriminantAnalysis      0.96               0.97     0.97      0.97   \n",
      "ExtraTreesClassifier               0.97               0.96     0.96      0.97   \n",
      "RidgeClassifierCV                  0.97               0.96     0.96      0.97   \n",
      "RidgeClassifier                    0.97               0.96     0.96      0.97   \n",
      "AdaBoostClassifier                 0.96               0.96     0.96      0.96   \n",
      "KNeighborsClassifier               0.96               0.96     0.96      0.96   \n",
      "BernoulliNB                        0.95               0.95     0.95      0.95   \n",
      "LinearDiscriminantAnalysis         0.96               0.95     0.95      0.96   \n",
      "GaussianNB                         0.95               0.95     0.95      0.95   \n",
      "NuSVC                              0.95               0.94     0.94      0.95   \n",
      "ExtraTreeClassifier                0.94               0.93     0.93      0.94   \n",
      "NearestCentroid                    0.95               0.93     0.93      0.95   \n",
      "DecisionTreeClassifier             0.93               0.93     0.93      0.93   \n",
      "DummyClassifier                    0.64               0.50     0.50      0.50   \n",
      "\n",
      "                                   confusion_matrix  Time Taken  \n",
      "Model                                                            \n",
      "LinearSVC                      [[101, 2], [1, 181]]        0.06  \n",
      "Perceptron                     [[101, 2], [2, 180]]        0.04  \n",
      "LogisticRegression             [[100, 3], [1, 181]]        1.81  \n",
      "SVC                            [[100, 3], [2, 180]]        0.06  \n",
      "XGBClassifier                  [[101, 2], [4, 178]]        0.74  \n",
      "LabelPropagation               [[100, 3], [4, 178]]        0.06  \n",
      "LabelSpreading                 [[100, 3], [4, 178]]        0.05  \n",
      "BaggingClassifier              [[101, 2], [6, 176]]        0.11  \n",
      "PassiveAggressiveClassifier     [[98, 5], [1, 181]]        0.04  \n",
      "SGDClassifier                   [[99, 4], [3, 179]]        0.04  \n",
      "RandomForestClassifier         [[100, 3], [5, 177]]        0.65  \n",
      "CalibratedClassifierCV          [[97, 6], [0, 182]]        0.08  \n",
      "LGBMClassifier                  [[99, 4], [5, 177]]        1.04  \n",
      "QuadraticDiscriminantAnalysis  [[100, 3], [7, 175]]        0.11  \n",
      "ExtraTreesClassifier            [[98, 5], [4, 178]]        0.34  \n",
      "RidgeClassifierCV               [[96, 7], [1, 181]]        0.05  \n",
      "RidgeClassifier                 [[96, 7], [2, 180]]        0.04  \n",
      "AdaBoostClassifier              [[98, 5], [6, 176]]        0.31  \n",
      "KNeighborsClassifier            [[96, 7], [4, 178]]        0.06  \n",
      "BernoulliNB                     [[98, 5], [9, 173]]        0.03  \n",
      "LinearDiscriminantAnalysis      [[94, 9], [2, 180]]        0.04  \n",
      "GaussianNB                      [[96, 7], [6, 176]]        0.03  \n",
      "NuSVC                          [[93, 10], [3, 179]]        0.09  \n",
      "ExtraTreeClassifier            [[93, 10], [6, 176]]        0.03  \n",
      "NearestCentroid                [[91, 12], [3, 179]]        0.03  \n",
      "DecisionTreeClassifier         [[95, 8], [12, 170]]        0.03  \n",
      "DummyClassifier                [[0, 103], [0, 182]]        0.02  \n"
     ]
    },
    {
     "name": "stderr",
     "output_type": "stream",
     "text": [
      "\n"
     ]
    }
   ],
   "source": [
    "from sklearn.datasets import load_breast_cancer\n",
    "from sklearn.metrics import confusion_matrix\n",
    "data = load_breast_cancer()\n",
    "X = data.data\n",
    "y= data.target\n",
    "X_train, X_test, y_train, y_test = train_test_split(X, y,test_size=.5,random_state =123)\n",
    "clf = LazyClassifier(verbose=1,ignore_warnings=False, custom_metric=confusion_matrix)\n",
    "models,predictions = clf.fit(X_train, X_test, y_train, y_test)\n",
    "print(f\"--------------------Out put of fitting data in Lazy Classifier -----------------------\\n {models}\")"
   ]
  },
  {
   "cell_type": "code",
   "execution_count": null,
   "id": "7a3dcbe4",
   "metadata": {},
   "outputs": [],
   "source": []
  }
 ],
 "metadata": {
  "kernelspec": {
   "display_name": "Python 3 (ipykernel)",
   "language": "python",
   "name": "python3"
  },
  "language_info": {
   "codemirror_mode": {
    "name": "ipython",
    "version": 3
   },
   "file_extension": ".py",
   "mimetype": "text/x-python",
   "name": "python",
   "nbconvert_exporter": "python",
   "pygments_lexer": "ipython3",
   "version": "3.9.12"
  }
 },
 "nbformat": 4,
 "nbformat_minor": 5
}
